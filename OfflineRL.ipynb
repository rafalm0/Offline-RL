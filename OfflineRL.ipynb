{
 "cells": [
  {
   "cell_type": "markdown",
   "id": "0e9eb637",
   "metadata": {},
   "source": [
    "# Assignment 3 "
   ]
  },
  {
   "cell_type": "markdown",
   "id": "71864714",
   "metadata": {},
   "source": [
    "<div style=\"border-bottom: 3px solid black; margin-bottom:5px\"></div>\n",
    "<div style=\"border-bottom: 3px solid black; margin-bottom:5px\"></div>\n",
    "\n",
    "\n",
    "## Importing packages"
   ]
  },
  {
   "cell_type": "code",
   "execution_count": 1,
   "id": "8c83e28f",
   "metadata": {},
   "outputs": [],
   "source": [
    "from sklearn.linear_model import LogisticRegression\n",
    "from sklearn.model_selection import train_test_split\n",
    "import gymnasium as gym\n",
    "import pandas as pd\n",
    "import numpy as np\n",
    "import matplotlib.pyplot as plt\n",
    "import math\n",
    "import random\n",
    "import os\n",
    "\n",
    "\n",
    "os.environ[\"KMP_DUPLICATE_LIB_OK\"] = \"TRUE\"\n",
    "rnd = np.random.default_rng(112233)\n",
    "\n",
    "# turn of warnings\n",
    "import warnings\n",
    "warnings.filterwarnings('ignore')"
   ]
  },
  {
   "cell_type": "markdown",
   "id": "8a26d85e",
   "metadata": {},
   "source": [
    "<div style=\"border-bottom: 3px solid black; margin-bottom:5px\"></div>\n",
    "<div style=\"border-bottom: 3px solid black; margin-bottom:5px\"></div>\n",
    "\n",
    "## Building Cart Pole Q-learning"
   ]
  },
  {
   "cell_type": "code",
   "execution_count": 2,
   "id": "372639be",
   "metadata": {},
   "outputs": [],
   "source": [
    "env = gym.make('CartPole-v1')"
   ]
  },
  {
   "cell_type": "markdown",
   "id": "1ca93e65",
   "metadata": {},
   "source": [
    "<div style=\"border-bottom: 3px solid black; margin-bottom:5px\"></div>\n",
    "\n",
    "## Building Q-learning class"
   ]
  },
  {
   "cell_type": "markdown",
   "id": "ef1e79c4",
   "metadata": {},
   "source": [
    "I will be providing the code for the qlearning from the last assignment along the code for this assignment in the same class. However some functions will only be used by the data generator."
   ]
  },
  {
   "cell_type": "code",
   "execution_count": 3,
   "id": "1f7ced53",
   "metadata": {},
   "outputs": [],
   "source": [
    "class qlearning:\n",
    "    def __init__(self, env, alpha=.85, gamma=.95, epsilon=.1, bins=10,penalty=250,lr_model=None):\n",
    "        self.a = alpha\n",
    "        self.g = gamma\n",
    "        self.e = epsilon\n",
    "        self.n_bins = bins\n",
    "        self.env = env\n",
    "        self.penalty = penalty\n",
    "        self.greedy=False\n",
    "        self.lr_model = lr_model\n",
    "        \n",
    "        # changing bounds into more compact values to speed up training (fewer bins needed for this accuracy):\n",
    "        self.env_space = [[3, -3],\n",
    "                          [6, -6],\n",
    "                          [0.300, -0.300],\n",
    "                          [5, -5]]\n",
    "\n",
    "        self.q = self.gen_table()\n",
    "        \n",
    "        return\n",
    "\n",
    "    def gen_table(self):\n",
    "        action_dim = self.env.action_space.n\n",
    "\n",
    "        table = np.random.uniform(low=-0.001, high=0.001, size=(self.n_bins, self.n_bins, self.n_bins, self.n_bins, action_dim))\n",
    "\n",
    "        self.q = table\n",
    "        return self.q\n",
    "\n",
    "    def update(self, reward, state, action, next_state):\n",
    "        a, b, c, d, e = self.get_s(state, action)\n",
    "        a_, b_, c_, d_ = self.get_s(next_state)\n",
    "\n",
    "        self.q[a][b][c][d][e] = self.q[a][b][c][d][e] + self.a * (\n",
    "                reward + self.g * np.max(self.q[a_][b_][c_][d_]) - self.q[a][b][c][d][e])\n",
    "\n",
    "        return None\n",
    "    \n",
    "    def offline_update(self,state, action, error):\n",
    "        a, b, c, d, e = self.get_s(state, action)\n",
    "        e = int(e)\n",
    "        self.q[a][b][c][d][e] = self.q[a][b][c][d][e] - self.a * error\n",
    "\n",
    "        return None\n",
    "\n",
    "    def choose(self, state,imitation=False,get_max=False):\n",
    "\n",
    "        if imitation:\n",
    "            \n",
    "            return int(self.lr_model.predict(np.array(state).reshape((1,-1)))[0])\n",
    "        \n",
    "        if (rnd.random() < self.e) and (self.greedy):\n",
    "            # random sampling\n",
    "            chosen = rnd.choice(list(range(self.env.action_space.n)))\n",
    "        else:\n",
    "            # greedy choice\n",
    "            table = self.q\n",
    "            for miniState in self.get_s(state):\n",
    "                table = table[miniState]\n",
    "\n",
    "            chosen = np.argmax(table)\n",
    "            \n",
    "        if get_max:\n",
    "            return table[chosen]\n",
    "        return chosen\n",
    "    \n",
    "    def get(self,state,table=None,action=None):\n",
    "        if table is None:\n",
    "            table = self.q\n",
    "\n",
    "        for miniState in self.get_s(state):\n",
    "                table = table[miniState]\n",
    "\n",
    "        if action is None:\n",
    "            chosen = np.argmax(table)\n",
    "            return table[chosen], chosen\n",
    "        else:\n",
    "            return table[int(action)]\n",
    "\n",
    "    def get_s(self, state, action=None):\n",
    "        indexes = []\n",
    "        for i, feature in enumerate(state):\n",
    "            max_value = self.env_space[i][0]\n",
    "            min_value = self.env_space[i][1]\n",
    "\n",
    "            if (feature > max_value) or (feature < min_value):\n",
    "                raise ValueError(\n",
    "                    f\"Feature out of bounds for feature{str(i)} on bins : {str(feature)}  |min : {str(min_value)} - \"\n",
    "                    f\"max :{str(max_value)}|\")\n",
    "            window_size = (max_value - min_value) / self.n_bins\n",
    "            bin_loc = (feature - min_value) // window_size\n",
    "            indexes.append(int(bin_loc))\n",
    "\n",
    "        if action is None:\n",
    "            return indexes\n",
    "        else:\n",
    "            return indexes + [action]\n",
    "        \n",
    "\n",
    "    def episode(self,imitation=False):\n",
    "        state = self.env.reset()[0]\n",
    "        ended = False\n",
    "        ep_reward = 0\n",
    "        ep_history = []\n",
    "        \n",
    "\n",
    "        while not ended:\n",
    "\n",
    "            action = self.choose(state,imitation=imitation)\n",
    "\n",
    "            # take A from S and get S'\n",
    "            new_state, reward, ended, time_limit, prob = env.step(action)\n",
    "\n",
    "            if ended:\n",
    "                reward -= self.penalty\n",
    "            self.update(reward, state, action, new_state)\n",
    "            \n",
    "            ep_history.append(np.array([x for x in state] + [action] +[y for y in new_state] + [reward]))\n",
    "\n",
    "            # S <- S'\n",
    "            state = new_state\n",
    "            ep_reward += reward\n",
    "            if time_limit:\n",
    "                break\n",
    "\n",
    "        return ep_reward,np.array(ep_history)\n",
    "    \n",
    "    def offline_train(self, data, k=10):\n",
    "        \n",
    "        weights = np.zeros((self.n_bins, self.n_bins, self.n_bins, self.n_bins, self.env.action_space.n))\n",
    "        \n",
    "        for epoch in range(k):\n",
    "            total_error = 0\n",
    "            for batch in np.array_split(data, 10):\n",
    "                \n",
    "                grad = np.zeros_like(weights)\n",
    "\n",
    "                for index, row in batch.iterrows():\n",
    "                    state = list(row[['s1','s2','s3','s4']])\n",
    "                    next_state = list(row[['ns1','ns2','ns3','ns4']])\n",
    "                    action = row['action']\n",
    "                    r = row['reward']\n",
    "\n",
    "                    max_Q_next,_ = self.get(next_state) # get maximum expected value for the next state\n",
    "\n",
    "                    target = r + self.g * max_Q_next\n",
    "                    \n",
    "                    Q_predicted = self.get(state,action=action) \n",
    "                    # get the current value for the state with action\n",
    "                    # we want to approximate the next to the current one and then \n",
    "                    \n",
    "                    # calculating the squared error for  this data_point\n",
    "                    error = Q_predicted - target\n",
    "                    \n",
    "                    # updating the Q-function with gradient decent\n",
    "                    self.offline_update(state,action,error)\n",
    "\n",
    "        return \n",
    "    \n",
    "    # train\n",
    "    def train(self, episode_n=1000, verbose=False,use_model=False):\n",
    "        run_results = []\n",
    "        for i, mode in enumerate(range(episode_n)):\n",
    "            if verbose and (len(run_results) > 1):\n",
    "                print(f\"\\n{i + 1}th Segment: {np.mean(run_results)} avg reward\", end='')\n",
    "            reward, history = self.episode()\n",
    "            run_results.append(reward)\n",
    "\n",
    "        return run_results\n",
    "    \n",
    "    def gen_data(self,episodes=500,imitation=False,reward_=False):\n",
    "        self.greedy = True\n",
    "        \n",
    "        history_results = []\n",
    "        reward_results = []\n",
    "        for i in range(episodes):\n",
    "            reward, history =  self.episode(imitation=imitation)\n",
    "            for ep in history:\n",
    "                history_results.append(np.append(ep,i))\n",
    "            reward_results.append(reward)\n",
    "        \n",
    "        self.greedy = False\n",
    "        if reward_:\n",
    "            return reward_results, history_results\n",
    "        else:\n",
    "            return history_results\n",
    "    \n"
   ]
  },
  {
   "cell_type": "markdown",
   "id": "2f37d80c",
   "metadata": {},
   "source": [
    "<div style=\"border-bottom: 3px solid black; margin-bottom:5px\"></div>\n",
    "\n",
    "## Training the expert system"
   ]
  },
  {
   "cell_type": "markdown",
   "id": "e4953287",
   "metadata": {},
   "source": [
    "For this process, the expert system was the normal Q-learning instead of the Actor-Critic since in the last assignment my classical Q-learning achieved better results. Also, the training here will be of 10000 episodes to make sure the expert system   gives good data for this assignments results."
   ]
  },
  {
   "cell_type": "code",
   "execution_count": 4,
   "id": "217fd940",
   "metadata": {},
   "outputs": [],
   "source": [
    "# picking best configurations from last assignment\n",
    "n_bins = 10\n",
    "\n",
    "epsilon = .15\n",
    "learning_rate = 1 / 4\n",
    "\n",
    "#setting one default rng for numpy \n",
    "rnd = np.random.default_rng(112233)\n"
   ]
  },
  {
   "cell_type": "code",
   "execution_count": 5,
   "id": "a1ca6f23",
   "metadata": {},
   "outputs": [],
   "source": [
    "# expert model\n",
    "\n",
    "if not os.path.exists('Data'):\n",
    "    os.mkdir('Data')\n",
    "\n",
    "if not os.path.exists(f'Data/Data{str(500)}.csv'):\n",
    "    model = qlearning(env, alpha=learning_rate, epsilon=epsilon, bins=n_bins)\n",
    "    _ = model.train(episode_n=10000)\n",
    "\n",
    "# random model\n",
    "if not os.path.exists(f'Data_random/Data{str(500)}.csv'):\n",
    "    random_model = qlearning(env, alpha=learning_rate, epsilon=1, bins=n_bins)\n",
    "    _ = random_model.train(episode_n=10000)\n",
    "    "
   ]
  },
  {
   "cell_type": "code",
   "execution_count": 6,
   "id": "fc56eaa3",
   "metadata": {},
   "outputs": [],
   "source": [
    "# Generating Data for the normal greedy model\n",
    "\n",
    "for size in [100,250,500]:\n",
    "    if not os.path.exists(f'Data/Data{str(size)}.csv'):\n",
    "        data = np.array(model.gen_data(size))\n",
    "        df = pd.DataFrame(data, columns=['s1','s2','s3','s4', 'action', 'ns1','ns2','ns3','ns4', 'reward','episode'])\n",
    "        df.to_csv(f'Data/Data{str(size)}.csv', index=False, sep=';', encoding='utf-8') # saving data\n",
    "    else:\n",
    "        df = pd.read_csv(f'Data/Data{str(size)}.csv', sep=';', encoding='utf-8')\n",
    "    \n",
    "    "
   ]
  },
  {
   "cell_type": "code",
   "execution_count": 7,
   "id": "283e6b05",
   "metadata": {},
   "outputs": [],
   "source": [
    "# Generating Data for the random  model\n",
    "if not os.path.exists('Data_random'):\n",
    "    os.mkdir('Data_random')\n",
    "    \n",
    "for size in [100,250,500]:\n",
    "    if not os.path.exists(f'Data_random/Data{size}.csv'):\n",
    "        data = np.array(random_model.gen_data(size))\n",
    "        df_random = pd.DataFrame(data, columns=['s1','s2','s3','s4', 'action', 'ns1','ns2','ns3','ns4', 'reward','episode'])\n",
    "        df_random.to_csv(f'Data_random/Data{size}.csv', index=False, sep=';', encoding='utf-8') # saving data\n",
    "    else:\n",
    "        df_random = pd.read_csv(f'Data_random/Data{size}.csv', sep=';', encoding='utf-8')\n"
   ]
  },
  {
   "cell_type": "code",
   "execution_count": 8,
   "id": "04e39bfe",
   "metadata": {},
   "outputs": [
    {
     "data": {
      "text/html": [
       "<div>\n",
       "<style scoped>\n",
       "    .dataframe tbody tr th:only-of-type {\n",
       "        vertical-align: middle;\n",
       "    }\n",
       "\n",
       "    .dataframe tbody tr th {\n",
       "        vertical-align: top;\n",
       "    }\n",
       "\n",
       "    .dataframe thead th {\n",
       "        text-align: right;\n",
       "    }\n",
       "</style>\n",
       "<table border=\"1\" class=\"dataframe\">\n",
       "  <thead>\n",
       "    <tr style=\"text-align: right;\">\n",
       "      <th></th>\n",
       "      <th>s1</th>\n",
       "      <th>s2</th>\n",
       "      <th>s3</th>\n",
       "      <th>s4</th>\n",
       "      <th>action</th>\n",
       "      <th>ns1</th>\n",
       "      <th>ns2</th>\n",
       "      <th>ns3</th>\n",
       "      <th>ns4</th>\n",
       "      <th>reward</th>\n",
       "      <th>episode</th>\n",
       "    </tr>\n",
       "  </thead>\n",
       "  <tbody>\n",
       "    <tr>\n",
       "      <th>0</th>\n",
       "      <td>-0.034621</td>\n",
       "      <td>0.011817</td>\n",
       "      <td>0.010880</td>\n",
       "      <td>0.036096</td>\n",
       "      <td>1.0</td>\n",
       "      <td>-0.034385</td>\n",
       "      <td>0.206781</td>\n",
       "      <td>0.011602</td>\n",
       "      <td>-0.253135</td>\n",
       "      <td>1.0</td>\n",
       "      <td>0.0</td>\n",
       "    </tr>\n",
       "    <tr>\n",
       "      <th>1</th>\n",
       "      <td>-0.034385</td>\n",
       "      <td>0.206781</td>\n",
       "      <td>0.011602</td>\n",
       "      <td>-0.253135</td>\n",
       "      <td>0.0</td>\n",
       "      <td>-0.030249</td>\n",
       "      <td>0.011496</td>\n",
       "      <td>0.006539</td>\n",
       "      <td>0.043185</td>\n",
       "      <td>1.0</td>\n",
       "      <td>0.0</td>\n",
       "    </tr>\n",
       "    <tr>\n",
       "      <th>2</th>\n",
       "      <td>-0.030249</td>\n",
       "      <td>0.011496</td>\n",
       "      <td>0.006539</td>\n",
       "      <td>0.043185</td>\n",
       "      <td>1.0</td>\n",
       "      <td>-0.030019</td>\n",
       "      <td>0.206523</td>\n",
       "      <td>0.007403</td>\n",
       "      <td>-0.247428</td>\n",
       "      <td>1.0</td>\n",
       "      <td>0.0</td>\n",
       "    </tr>\n",
       "    <tr>\n",
       "      <th>3</th>\n",
       "      <td>-0.030019</td>\n",
       "      <td>0.206523</td>\n",
       "      <td>0.007403</td>\n",
       "      <td>-0.247428</td>\n",
       "      <td>0.0</td>\n",
       "      <td>-0.025889</td>\n",
       "      <td>0.011296</td>\n",
       "      <td>0.002454</td>\n",
       "      <td>0.047581</td>\n",
       "      <td>1.0</td>\n",
       "      <td>0.0</td>\n",
       "    </tr>\n",
       "    <tr>\n",
       "      <th>4</th>\n",
       "      <td>-0.025889</td>\n",
       "      <td>0.011296</td>\n",
       "      <td>0.002454</td>\n",
       "      <td>0.047581</td>\n",
       "      <td>1.0</td>\n",
       "      <td>-0.025663</td>\n",
       "      <td>0.206383</td>\n",
       "      <td>0.003406</td>\n",
       "      <td>-0.244327</td>\n",
       "      <td>1.0</td>\n",
       "      <td>0.0</td>\n",
       "    </tr>\n",
       "  </tbody>\n",
       "</table>\n",
       "</div>"
      ],
      "text/plain": [
       "         s1        s2        s3        s4  action       ns1       ns2  \\\n",
       "0 -0.034621  0.011817  0.010880  0.036096     1.0 -0.034385  0.206781   \n",
       "1 -0.034385  0.206781  0.011602 -0.253135     0.0 -0.030249  0.011496   \n",
       "2 -0.030249  0.011496  0.006539  0.043185     1.0 -0.030019  0.206523   \n",
       "3 -0.030019  0.206523  0.007403 -0.247428     0.0 -0.025889  0.011296   \n",
       "4 -0.025889  0.011296  0.002454  0.047581     1.0 -0.025663  0.206383   \n",
       "\n",
       "        ns3       ns4  reward  episode  \n",
       "0  0.011602 -0.253135     1.0      0.0  \n",
       "1  0.006539  0.043185     1.0      0.0  \n",
       "2  0.007403 -0.247428     1.0      0.0  \n",
       "3  0.002454  0.047581     1.0      0.0  \n",
       "4  0.003406 -0.244327     1.0      0.0  "
      ]
     },
     "execution_count": 8,
     "metadata": {},
     "output_type": "execute_result"
    }
   ],
   "source": [
    "# data snippet\n",
    "df.head(5)"
   ]
  },
  {
   "cell_type": "markdown",
   "id": "80183e28",
   "metadata": {},
   "source": [
    "<div style=\"border-bottom: 3px solid black; margin-bottom:5px\"></div>\n",
    "<div style=\"border-bottom: 3px solid black; margin-bottom:5px\"></div>\n",
    "\n",
    "\n",
    "## Preparing data split"
   ]
  },
  {
   "cell_type": "code",
   "execution_count": 9,
   "id": "52a32f33",
   "metadata": {},
   "outputs": [
    {
     "data": {
      "text/plain": [
       "Text(0.5, 1.0, '500 episodes of expert data')"
      ]
     },
     "execution_count": 9,
     "metadata": {},
     "output_type": "execute_result"
    },
    {
     "data": {
      "image/png": "[encoded data removed]",
      "text/plain": [
       "<Figure size 640x480 with 1 Axes>"
      ]
     },
     "metadata": {},
     "output_type": "display_data"
    }
   ],
   "source": [
    "# taking a look at the expert data\n",
    "hist = df.groupby('episode')['reward'].sum().apply(lambda a : a+250 if a <500 else a)\n",
    "plt.hist(hist)\n",
    "plt.title(\"500 episodes of expert data\")"
   ]
  },
  {
   "cell_type": "code",
   "execution_count": 10,
   "id": "aa2e0a21",
   "metadata": {},
   "outputs": [],
   "source": [
    "sizes = [100, 250, 500]\n",
    "splits = [(1.0,.0), (.5,.5), (.0,1.0)]\n",
    "\n",
    "datasets = {100:{},250:{},500:{}}\n",
    "\n",
    "for size in sizes:\n",
    "#     df = pd.read_csv(f'Data/Data{str(size)}.csv', sep=';', encoding='utf-8')\n",
    "#     df_random = pd.read_csv(f'Data_random/Data{size}.csv', sep=';', encoding='utf-8')\n",
    "    for split in splits:\n",
    "        \n",
    "#         split_n = size*split[1]\n",
    "#         x = df[df['episode'] < split_n]\n",
    "#         y = df_random[df_random['episode'] > split_n]\n",
    "        \n",
    "        x = df.sample(int(size*split[1]))\n",
    "        y = df_random.sample(int(size*split[0]))\n",
    "        \n",
    "        datasets[size][split] = pd.concat([x,y])\n"
   ]
  },
  {
   "cell_type": "markdown",
   "id": "e73b8c47",
   "metadata": {},
   "source": [
    "<div style=\"border-bottom: 3px solid black; margin-bottom:5px\"></div>\n",
    "<div style=\"border-bottom: 3px solid black; margin-bottom:5px\"></div>\n",
    "\n",
    "\n",
    "## Imitation learning "
   ]
  },
  {
   "cell_type": "markdown",
   "id": "9c32e4ab",
   "metadata": {},
   "source": [
    "Since we'll be using the logistic regression from Sklearn, we will be experimenting with the C parameters instead of the learning rate."
   ]
  },
  {
   "cell_type": "code",
   "execution_count": 11,
   "id": "52dee7d8",
   "metadata": {
    "scrolled": false
   },
   "outputs": [],
   "source": [
    "# creating the logistic regression model for the immitation\n",
    "\n",
    "immitation_models = {100:{},250:{},500:{}}\n",
    "\n",
    "for size in sizes:\n",
    "    for split in splits:\n",
    "        data = datasets[size][split]\n",
    "        y = data['action']\n",
    "        X = data[['s1','s2','s3','s4']]\n",
    "        X_train, X_test, y_train, y_test = train_test_split(X, y, test_size=0.1, random_state=0)\n",
    "        \n",
    "        lr0 = LogisticRegression(random_state=0,max_iter=100,multi_class='multinomial',C=.6).fit(X_train.values,y_train.values)\n",
    "        lr1 = LogisticRegression(random_state=0,max_iter=100,multi_class='multinomial',C=1).fit(X_train.values,y_train.values)\n",
    "        \n",
    "        # now creating immitation model with the log regress \n",
    "        model0 = qlearning(env, alpha=learning_rate, epsilon=epsilon, bins=n_bins,lr_model=lr0)\n",
    "        model1 = qlearning(env, alpha=learning_rate, epsilon=epsilon, bins=n_bins,lr_model=lr1)\n",
    "        \n",
    "        immitation_models[size][split] = (model0,model1)\n",
    "        "
   ]
  },
  {
   "cell_type": "markdown",
   "id": "b0bbea70",
   "metadata": {},
   "source": [
    "<div style=\"border-bottom: 3px solid black; margin-bottom:5px\"></div>\n",
    "\n",
    "\n",
    "### Evaluating The Immitation model"
   ]
  },
  {
   "cell_type": "code",
   "execution_count": 12,
   "id": "964f06f1",
   "metadata": {},
   "outputs": [
    {
     "data": {
      "image/png": "[encoded data removed]",
      "text/plain": [
       "<Figure size 900x900 with 9 Axes>"
      ]
     },
     "metadata": {},
     "output_type": "display_data"
    }
   ],
   "source": [
    "sizes = [500, 250, 100]\n",
    "splits = [(1.0,.0), (.5,.5), (.0,1.0)]\n",
    "\n",
    "fig, ax = plt.subplots(len(sizes),len(splits), sharey='row', figsize=(9, 9))\n",
    "ax[0][1].set_title(\"Experiment results\", y=1.2, fontsize=20)\n",
    "ax[1][0].set_ylabel(f'Avg Reward with standard error', fontsize=18)\n",
    "\n",
    "for j,split in enumerate(splits):\n",
    "    for i,size in enumerate(sizes):\n",
    "        \n",
    "        split_text = {(1.0,.0):'Random data', (.5,.5):'Mixed data', (.0,1.0):'Expert data'}\n",
    "        \n",
    "        expert_policy = pd.read_csv(f'Data/Data{str(size)}.csv', sep=';', encoding='utf-8')\n",
    "        random_policy = pd.read_csv(f'Data_random/Data{size}.csv', sep=';', encoding='utf-8')\n",
    "        \n",
    "        random_avg = np.mean(random_policy.groupby('episode').sum()['reward'].apply(lambda a: a + 250 if a != 500 else a))\n",
    "        expert_avg = np.mean(expert_policy.groupby('episode').sum()['reward'].apply(lambda a: a + 250 if a != 500 else a))\n",
    "        \n",
    "        if i == 0:\n",
    "            text = ax[i][j].text(.1,570,f\"{split_text[split]}\", size=15)\n",
    "        if j == 2:\n",
    "            text = ax[i][j].text(1.5,350,f\"{str(size)} episodes\", size=15)\n",
    "            \n",
    "            ax[i][j].text(1.15, expert_avg, \"expert_avg\", va='center', ha=\"left\", bbox=dict(facecolor=\"w\",alpha=0.5),transform=ax[i][j].get_yaxis_transform())\n",
    "            ax[i][j].text(1.15, random_avg, \"random_avg\", va='center', ha=\"left\", bbox=dict(facecolor=\"w\",alpha=0.5),transform=ax[i][j].get_yaxis_transform())\n",
    "\n",
    "        \n",
    "        X = []\n",
    "        Y = []\n",
    "        err = []\n",
    "        for z,model in enumerate(immitation_models[size][split]):\n",
    "            C = model.lr_model.get_params()['C']\n",
    "            \n",
    "            test_result = model.gen_data(episodes=100,imitation=True, reward_=True)[0]\n",
    "            \n",
    "            # compensating penalty for the purpose of visualization (normally all non-sucessfull would have an penalty)\n",
    "            test_result = [x if x==500 else x+250 for x in test_result]\n",
    "            \n",
    "            test_avg = np.mean(test_result)\n",
    "            test_std = np.std(test_result)\n",
    "            # plot here the result\n",
    "            \n",
    "            X.append('C:' +str(C))\n",
    "            Y.append(test_avg)\n",
    "            err.append(test_std)\n",
    "            \n",
    "        ax[i][j].set_ylim([0, 550])\n",
    "        ax[i][j].bar(X,Y, alpha=1)\n",
    "        ax[i][j].errorbar(X, Y, err, fmt='.', color='orange', elinewidth=2,capthick=5,errorevery=1, alpha=0.75, ms=4, capsize = 2)\n",
    "        ax[i][j].axhline(random_avg, color=\"black\")\n",
    "        ax[i][j].axhline(expert_avg, color=\"black\") \n",
    "#         ax[i][j].grid(visible=True)"
   ]
  },
  {
   "cell_type": "markdown",
   "id": "e1be24cc",
   "metadata": {},
   "source": [
    "<div style=\"border-bottom: 3px solid black; margin-bottom:5px\"></div>\n",
    "<div style=\"border-bottom: 3px solid black; margin-bottom:5px\"></div>\n",
    "\n",
    "\n",
    "## Training fitted Q-learning"
   ]
  },
  {
   "cell_type": "code",
   "execution_count": 13,
   "id": "79c24d03",
   "metadata": {},
   "outputs": [],
   "source": [
    "# hyper-params\n",
    "\n",
    "K = 10\n",
    "learning_rates = [.25, .5]\n",
    "epsilon = 0"
   ]
  },
  {
   "cell_type": "code",
   "execution_count": 14,
   "id": "77b6d2e8",
   "metadata": {},
   "outputs": [
    {
     "ename": "AttributeError",
     "evalue": "'NoneType' object has no attribute 'predict'",
     "output_type": "error",
     "traceback": [
      "\u001b[1;31m---------------------------------------------------------------------------\u001b[0m",
      "\u001b[1;31mAttributeError\u001b[0m                            Traceback (most recent call last)",
      "Input \u001b[1;32mIn [14]\u001b[0m, in \u001b[0;36m<cell line: 6>\u001b[1;34m()\u001b[0m\n\u001b[0;32m     17\u001b[0m model \u001b[38;5;241m=\u001b[39m qlearning(env, gamma\u001b[38;5;241m=\u001b[39mlr, epsilon\u001b[38;5;241m=\u001b[39m\u001b[38;5;241m1\u001b[39m, bins\u001b[38;5;241m=\u001b[39m\u001b[38;5;241m10\u001b[39m)\n\u001b[0;32m     18\u001b[0m model\u001b[38;5;241m.\u001b[39moffline_train(data)\n\u001b[1;32m---> 19\u001b[0m test_result \u001b[38;5;241m=\u001b[39m \u001b[43mmodel\u001b[49m\u001b[38;5;241;43m.\u001b[39;49m\u001b[43mgen_data\u001b[49m\u001b[43m(\u001b[49m\u001b[43mepisodes\u001b[49m\u001b[38;5;241;43m=\u001b[39;49m\u001b[38;5;241;43m100\u001b[39;49m\u001b[43m,\u001b[49m\u001b[43mimitation\u001b[49m\u001b[38;5;241;43m=\u001b[39;49m\u001b[38;5;28;43;01mTrue\u001b[39;49;00m\u001b[43m,\u001b[49m\u001b[43m \u001b[49m\u001b[43mreward_\u001b[49m\u001b[38;5;241;43m=\u001b[39;49m\u001b[38;5;28;43;01mTrue\u001b[39;49;00m\u001b[43m)\u001b[49m[\u001b[38;5;241m0\u001b[39m]\n",
      "Input \u001b[1;32mIn [3]\u001b[0m, in \u001b[0;36mqlearning.gen_data\u001b[1;34m(self, episodes, imitation, reward_)\u001b[0m\n\u001b[0;32m    175\u001b[0m reward_results \u001b[38;5;241m=\u001b[39m []\n\u001b[0;32m    176\u001b[0m \u001b[38;5;28;01mfor\u001b[39;00m i \u001b[38;5;129;01min\u001b[39;00m \u001b[38;5;28mrange\u001b[39m(episodes):\n\u001b[1;32m--> 177\u001b[0m     reward, history \u001b[38;5;241m=\u001b[39m  \u001b[38;5;28;43mself\u001b[39;49m\u001b[38;5;241;43m.\u001b[39;49m\u001b[43mepisode\u001b[49m\u001b[43m(\u001b[49m\u001b[43mimitation\u001b[49m\u001b[38;5;241;43m=\u001b[39;49m\u001b[43mimitation\u001b[49m\u001b[43m)\u001b[49m\n\u001b[0;32m    178\u001b[0m     \u001b[38;5;28;01mfor\u001b[39;00m ep \u001b[38;5;129;01min\u001b[39;00m history:\n\u001b[0;32m    179\u001b[0m         history_results\u001b[38;5;241m.\u001b[39mappend(np\u001b[38;5;241m.\u001b[39mappend(ep,i))\n",
      "Input \u001b[1;32mIn [3]\u001b[0m, in \u001b[0;36mqlearning.episode\u001b[1;34m(self, imitation)\u001b[0m\n\u001b[0;32m    104\u001b[0m ep_history \u001b[38;5;241m=\u001b[39m []\n\u001b[0;32m    107\u001b[0m \u001b[38;5;28;01mwhile\u001b[39;00m \u001b[38;5;129;01mnot\u001b[39;00m ended:\n\u001b[1;32m--> 109\u001b[0m     action \u001b[38;5;241m=\u001b[39m \u001b[38;5;28;43mself\u001b[39;49m\u001b[38;5;241;43m.\u001b[39;49m\u001b[43mchoose\u001b[49m\u001b[43m(\u001b[49m\u001b[43mstate\u001b[49m\u001b[43m,\u001b[49m\u001b[43mimitation\u001b[49m\u001b[38;5;241;43m=\u001b[39;49m\u001b[43mimitation\u001b[49m\u001b[43m)\u001b[49m\n\u001b[0;32m    111\u001b[0m     \u001b[38;5;66;03m# take A from S and get S'\u001b[39;00m\n\u001b[0;32m    112\u001b[0m     new_state, reward, ended, time_limit, prob \u001b[38;5;241m=\u001b[39m env\u001b[38;5;241m.\u001b[39mstep(action)\n",
      "Input \u001b[1;32mIn [3]\u001b[0m, in \u001b[0;36mqlearning.choose\u001b[1;34m(self, state, imitation, get_max)\u001b[0m\n\u001b[0;32m     46\u001b[0m \u001b[38;5;28;01mdef\u001b[39;00m \u001b[38;5;21mchoose\u001b[39m(\u001b[38;5;28mself\u001b[39m, state,imitation\u001b[38;5;241m=\u001b[39m\u001b[38;5;28;01mFalse\u001b[39;00m,get_max\u001b[38;5;241m=\u001b[39m\u001b[38;5;28;01mFalse\u001b[39;00m):\n\u001b[0;32m     48\u001b[0m     \u001b[38;5;28;01mif\u001b[39;00m imitation:\n\u001b[1;32m---> 50\u001b[0m         \u001b[38;5;28;01mreturn\u001b[39;00m \u001b[38;5;28mint\u001b[39m(\u001b[38;5;28;43mself\u001b[39;49m\u001b[38;5;241;43m.\u001b[39;49m\u001b[43mlr_model\u001b[49m\u001b[38;5;241;43m.\u001b[39;49m\u001b[43mpredict\u001b[49m(np\u001b[38;5;241m.\u001b[39marray(state)\u001b[38;5;241m.\u001b[39mreshape((\u001b[38;5;241m1\u001b[39m,\u001b[38;5;241m-\u001b[39m\u001b[38;5;241m1\u001b[39m)))[\u001b[38;5;241m0\u001b[39m])\n\u001b[0;32m     52\u001b[0m     \u001b[38;5;28;01mif\u001b[39;00m (rnd\u001b[38;5;241m.\u001b[39mrandom() \u001b[38;5;241m<\u001b[39m \u001b[38;5;28mself\u001b[39m\u001b[38;5;241m.\u001b[39me) \u001b[38;5;129;01mand\u001b[39;00m (\u001b[38;5;28mself\u001b[39m\u001b[38;5;241m.\u001b[39mgreedy):\n\u001b[0;32m     53\u001b[0m         \u001b[38;5;66;03m# random sampling\u001b[39;00m\n\u001b[0;32m     54\u001b[0m         chosen \u001b[38;5;241m=\u001b[39m rnd\u001b[38;5;241m.\u001b[39mchoice(\u001b[38;5;28mlist\u001b[39m(\u001b[38;5;28mrange\u001b[39m(\u001b[38;5;28mself\u001b[39m\u001b[38;5;241m.\u001b[39menv\u001b[38;5;241m.\u001b[39maction_space\u001b[38;5;241m.\u001b[39mn)))\n",
      "\u001b[1;31mAttributeError\u001b[0m: 'NoneType' object has no attribute 'predict'"
     ]
    }
   ],
   "source": [
    "# fitted model\n",
    "\n",
    "model = qlearning(env)\n",
    "model.offline_train(data)\n",
    "\n",
    "for split in splits:\n",
    "    for size in sizes:\n",
    "        data = datasets[size][split]\n",
    "        \n",
    "        random_policy = datasets[size][(1.0,.0)]\n",
    "        expert_policy = datasets[size][(.0,1.0)]\n",
    "        \n",
    "        random_avg = np.mean(random_policy.groupby('episode').sum()['reward'])\n",
    "        expert_avg = np.mean(expert_policy.groupby('episode').sum()['reward'])\n",
    "        \n",
    "        for lr in learning_rates:\n",
    "            model = qlearning(env, gamma=lr, epsilon=1, bins=10)\n",
    "            model.offline_train(data)\n",
    "            test_result = model.gen_data(episodes=100,imitation=True, reward_=True)[0]\n",
    "        \n",
    "\n",
    "\n",
    "\n",
    "\n"
   ]
  },
  {
   "cell_type": "markdown",
   "id": "8f8efd9d",
   "metadata": {},
   "source": [
    "<div style=\"border-bottom: 3px solid black; margin-bottom:5px\"></div>\n",
    "\n",
    "\n",
    "### Evaluating The Fitted Q-learning model"
   ]
  },
  {
   "cell_type": "code",
   "execution_count": null,
   "id": "6ba4d9ea",
   "metadata": {},
   "outputs": [],
   "source": [
    "test_result = model.gen_data(episodes=100, reward_=True)[0]\n",
    "test_result = [x if x==500 else x+250 for x in test_result]\n",
    "plt.hist(test_result,bins=20)\n",
    "plt.xlabel(\"Total reward\")\n",
    "plt.ylabel(\"Runs\")"
   ]
  },
  {
   "cell_type": "markdown",
   "id": "98a0f9b3",
   "metadata": {},
   "source": [
    "<div style=\"border-bottom: 3px solid black; margin-bottom:5px\"></div>\n",
    "<div style=\"border-bottom: 3px solid black; margin-bottom:5px\"></div>\n",
    "\n",
    "# Discussion\n"
   ]
  },
  {
   "cell_type": "markdown",
   "id": "e58a022c",
   "metadata": {},
   "source": [
    "The environment used in this experiment was the same as the previous assignment.An environment with a cart with a pole trying to keep a pole straight up for as long as possible( the longer the more reward). It has 4 features that represented the state in a continous value that were later translated into 10 bins for discretization and easier modelling. \n",
    "\n",
    "Two algorithms were compared, the immitation learning and the Fitted Q-learning algorithm.\n",
    "\n",
    "The comparisson was made with different plots since the tunning of the models involved different hyper-parameters. However, presented bellow will be a comparisson of the models with the best value for C and learning rate.\n",
    "\n",
    "Also, given the complexity and time to train the models, the hyper parameter tunning was done by hand, with more agressive choices chosen initially until good results were found, and then the next values tested were closer and closer until two decent values were achived and utilized for the plots.\n"
   ]
  },
  {
   "cell_type": "code",
   "execution_count": null,
   "id": "6a4a8d90",
   "metadata": {},
   "outputs": [],
   "source": []
  },
  {
   "cell_type": "code",
   "execution_count": null,
   "id": "a76477a5",
   "metadata": {},
   "outputs": [],
   "source": []
  },
  {
   "cell_type": "code",
   "execution_count": null,
   "id": "22e50729",
   "metadata": {},
   "outputs": [],
   "source": []
  },
  {
   "cell_type": "code",
   "execution_count": null,
   "id": "2b197da7",
   "metadata": {},
   "outputs": [],
   "source": []
  }
 ],
 "metadata": {
  "kernelspec": {
   "display_name": "Python 3 (ipykernel)",
   "language": "python",
   "name": "python3"
  },
  "language_info": {
   "codemirror_mode": {
    "name": "ipython",
    "version": 3
   },
   "file_extension": ".py",
   "mimetype": "text/x-python",
   "name": "python",
   "nbconvert_exporter": "python",
   "pygments_lexer": "ipython3",
   "version": "3.8.13"
  }
 },
 "nbformat": 4,
 "nbformat_minor": 5
}
